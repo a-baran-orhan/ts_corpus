{
 "cells": [
  {
   "cell_type": "code",
   "execution_count": 28,
   "id": "38bc3b39",
   "metadata": {
    "scrolled": true
   },
   "outputs": [
    {
     "data": {
      "image/png": "[encoded data removed]",
      "text/plain": [
       "<Figure size 432x288 with 1 Axes>"
      ]
     },
     "metadata": {
      "needs_background": "light"
     },
     "output_type": "display_data"
    }
   ],
   "source": [
    "import re\n",
    "import matplotlib.pyplot as plt\n",
    "\n",
    "input_file_path = 'C:\\\\Users\\\\a_b_o\\\\OneDrive\\\\Masaüstü\\\\ts_corpus\\\\Raw\\\\extracted_sentences_10.txt'\n",
    "output_file_path = 'C:\\\\Users\\\\a_b_o\\\\OneDrive\\\\Masaüstü\\\\ts_corpus\\\\Updated\\\\updated_sentences_10.txt'\n",
    "min_line_length = 50\n",
    "max_line_length = 2000\n",
    "\n",
    "with open(input_file_path, 'r', encoding='utf-8') as input_file:\n",
    "    lines = input_file.readlines()\n",
    "\n",
    "cleaned_lines = [re.sub(r'^\\W+', '', line).strip() for line in lines if min_line_length <= len(line.strip()) <= max_line_length]\n",
    "\n",
    "with open(output_file_path, 'w', encoding='utf-8') as output_file:\n",
    "    output_file.write('\\n'.join(cleaned_lines))\n",
    "\n",
    "#Calculate min and max lengths of lines\n",
    "line_lengths = [len(line) for line in cleaned_lines]\n",
    "min_length = min(line_lengths)\n",
    "max_length = max(line_lengths)\n",
    "\n",
    "# Create a histogram of line lengths with more bins in the specified range\n",
    "plt.hist(line_lengths, bins=range(min_line_length, max_line_length + 1, 50), alpha=0.7, color='blue')\n",
    "plt.xlim(min_line_length, max_line_length)  # Set x-axis limits\n",
    "plt.xlabel('Line Length')\n",
    "plt.ylabel('Frequency')\n",
    "plt.title(f'Distribution of Line Lengths ({min_line_length} to {max_line_length})')\n",
    "plt.axvline(min_length, color='red', linestyle='dashed', linewidth=1, label=f'Min: {min_length}')\n",
    "plt.axvline(max_length, color='green', linestyle='dashed', linewidth=1, label=f'Max: {max_length}')\n",
    "plt.legend()\n",
    "\n",
    "plt.show()\n"
   ]
  },
  {
   "cell_type": "code",
   "execution_count": 50,
   "id": "5b9d1359",
   "metadata": {},
   "outputs": [],
   "source": [
    "def process_file(file_path):\n",
    "    with open(file_path, 'r', encoding='utf-8') as file:\n",
    "        lines = file.readlines()\n",
    "\n",
    "    filtered_lines = [line for line in lines if 50 <= len(line.strip()) <= 2000]\n",
    "\n",
    "    with open(file_path, 'w', encoding='utf-8') as file:\n",
    "        file.writelines(filtered_lines)\n",
    "\n",
    "if __name__ == \"__main__\":\n",
    "    file_path = 'C:\\\\Users\\\\a_b_o\\\\OneDrive\\\\Masaüstü\\\\ts_corpus\\\\Updated\\\\updated_sentences_10.txt'\n",
    "    process_file(file_path)\n",
    "\n",
    "\n",
    "\n"
   ]
  }
 ],
 "metadata": {
  "kernelspec": {
   "display_name": "Python 3",
   "language": "python",
   "name": "python3"
  },
  "language_info": {
   "codemirror_mode": {
    "name": "ipython",
    "version": 3
   },
   "file_extension": ".py",
   "mimetype": "text/x-python",
   "name": "python",
   "nbconvert_exporter": "python",
   "pygments_lexer": "ipython3",
   "version": "3.8.8"
  }
 },
 "nbformat": 4,
 "nbformat_minor": 5
}
