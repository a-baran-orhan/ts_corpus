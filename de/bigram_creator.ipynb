{
 "cells": [
  {
   "cell_type": "code",
   "execution_count": 1,
   "id": "348448eb",
   "metadata": {},
   "outputs": [],
   "source": [
    "def read_text_file(file_path):\n",
    "    with open(file_path, 'r', encoding='utf-8') as file:\n",
    "        text = file.read()\n",
    "    return text"
   ]
  },
  {
   "cell_type": "code",
   "execution_count": 2,
   "id": "bc604b83",
   "metadata": {},
   "outputs": [],
   "source": [
    "def preprocess_text(text):\n",
    "    # Tokenize by splitting on whitespace\n",
    "    tokens = text.split()\n",
    "    return tokens"
   ]
  },
  {
   "cell_type": "code",
   "execution_count": 3,
   "id": "c57992e8",
   "metadata": {},
   "outputs": [],
   "source": [
    "from nltk.util import bigrams\n",
    "from nltk import FreqDist\n",
    "\n",
    "def generate_bigrams(tokens):\n",
    "    bi_grams = list(bigrams(tokens))\n",
    "    return bi_grams, FreqDist(bi_grams)"
   ]
  },
  {
   "cell_type": "code",
   "execution_count": 4,
   "id": "459ae2b5",
   "metadata": {},
   "outputs": [],
   "source": [
    "if __name__ == \"__main__\":\n",
    "    file_path = \"C:\\\\Users\\\\a_b_o\\\\OneDrive\\\\Masaüstü\\\\ts_corpus\\\\de\\\\merged_ts_corpus_eco.txt\"\n",
    "    text = read_text_file(file_path)\n",
    "    tokens = preprocess_text(text)\n",
    "    bigrams, bigram_freq_dist = generate_bigrams(tokens)"
   ]
  },
  {
   "cell_type": "code",
   "execution_count": null,
   "id": "fa9e8243",
   "metadata": {},
   "outputs": [],
   "source": [
    "bigram_freq_dist"
   ]
  },
  {
   "cell_type": "code",
   "execution_count": 5,
   "id": "4af2ed1a",
   "metadata": {},
   "outputs": [
    {
     "name": "stdout",
     "output_type": "stream",
     "text": [
      "Bigram frequency distribution has been saved to: C:\\Users\\a_b_o\\OneDrive\\Masaüstü\\ts_corpus\\de\\bigram_freq_dist.txt\n"
     ]
    }
   ],
   "source": [
    "# Define the file path for storing the bigram frequency distribution\n",
    "output_file_path = \"C:\\\\Users\\\\a_b_o\\\\OneDrive\\\\Masaüstü\\\\ts_corpus\\\\de\\\\bigram_freq_dist.txt\"\n",
    "\n",
    "# Open the file in write mode and write the bigram frequency distribution to it\n",
    "with open(output_file_path, \"w\", encoding='utf-8') as output_file:\n",
    "    for bigram, freq in bigram_freq_dist.items():\n",
    "        output_file.write(f\"{bigram}: {freq}\\n\")\n",
    "\n",
    "print(\"Bigram frequency distribution has been saved to:\", output_file_path)"
   ]
  }
 ],
 "metadata": {
  "kernelspec": {
   "display_name": "Python 3",
   "language": "python",
   "name": "python3"
  },
  "language_info": {
   "codemirror_mode": {
    "name": "ipython",
    "version": 3
   },
   "file_extension": ".py",
   "mimetype": "text/x-python",
   "name": "python",
   "nbconvert_exporter": "python",
   "pygments_lexer": "ipython3",
   "version": "3.8.8"
  }
 },
 "nbformat": 4,
 "nbformat_minor": 5
}
