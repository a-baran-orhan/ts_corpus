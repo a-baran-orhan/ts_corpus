{
 "cells": [
  {
   "cell_type": "code",
   "execution_count": 1,
   "id": "25831804",
   "metadata": {},
   "outputs": [
    {
     "name": "stdout",
     "output_type": "stream",
     "text": [
      "Merged 10 files into merged_ts_corpus.txt\n"
     ]
    }
   ],
   "source": [
    "# List all the txt files in the folder\n",
    "import os\n",
    "\n",
    "folder_path = 'C:\\\\Users\\\\a_b_o\\\\OneDrive\\\\Masaüstü\\\\ts_corpus\\\\de'  # Replace with the actual folder path\n",
    "output_file = 'merged_ts_corpus.txt'\n",
    "\n",
    "\n",
    "txt_files = [file for file in os.listdir(folder_path) if file.endswith('.txt')]\n",
    "\n",
    "# Merge the contents of the txt files\n",
    "with open(output_file, 'w', encoding='utf-8') as merged_file:\n",
    "    for txt_file in txt_files:\n",
    "        file_path = os.path.join(folder_path, txt_file)\n",
    "        with open(file_path, 'r', encoding='utf-8') as f:\n",
    "            merged_file.write(f.read() + '\\n')\n",
    "\n",
    "print(f\"Merged {len(txt_files)} files into {output_file}\")"
   ]
  },
  {
   "cell_type": "code",
   "execution_count": null,
   "id": "75840a71",
   "metadata": {},
   "outputs": [],
   "source": []
  }
 ],
 "metadata": {
  "kernelspec": {
   "display_name": "Python 3",
   "language": "python",
   "name": "python3"
  },
  "language_info": {
   "codemirror_mode": {
    "name": "ipython",
    "version": 3
   },
   "file_extension": ".py",
   "mimetype": "text/x-python",
   "name": "python",
   "nbconvert_exporter": "python",
   "pygments_lexer": "ipython3",
   "version": "3.8.8"
  }
 },
 "nbformat": 4,
 "nbformat_minor": 5
}
